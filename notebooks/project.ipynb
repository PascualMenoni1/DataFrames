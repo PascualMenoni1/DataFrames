{
 "cells": [
  {
   "cell_type": "markdown",
   "id": "5807eba1fce08a86",
   "metadata": {},
   "source": "## Ejercicio 00\n"
  },
  {
   "cell_type": "code",
   "id": "82e7dea53f252c1c",
   "metadata": {
    "ExecuteTime": {
     "end_time": "2025-10-15T01:09:52.264537Z",
     "start_time": "2025-10-15T01:09:51.828610Z"
    }
   },
   "source": [
    "import pandas as pd\n",
    "df = pd.read_csv('../data/real_estate.csv', sep=';')\n",
    "\n",
    "df.head()"
   ],
   "outputs": [
    {
     "data": {
      "text/plain": [
       "   Unnamed: 0  id_realEstates  isNew                    realEstate_name  \\\n",
       "0           1       153771986  False            ferrari 57 inmobiliaria   \n",
       "1           2       153867863  False  tecnocasa fuenlabrada ferrocarril   \n",
       "2           3       153430440  False                 look find boadilla   \n",
       "3           4       152776331  False  tecnocasa fuenlabrada ferrocarril   \n",
       "4           5       153180188  False            ferrari 57 inmobiliaria   \n",
       "\n",
       "   phone_realEstate                                       url_inmueble  rooms  \\\n",
       "0       912177526.0  https://www.fotocasa.es/es/comprar/vivienda/ma...    3.0   \n",
       "1       916358736.0  https://www.fotocasa.es/es/comprar/vivienda/ma...    3.0   \n",
       "2       916350408.0  https://www.fotocasa.es/es/comprar/vivienda/ma...    2.0   \n",
       "3       916358736.0  https://www.fotocasa.es/es/comprar/vivienda/ma...    3.0   \n",
       "4       912177526.0  https://www.fotocasa.es/es/comprar/vivienda/ma...    2.0   \n",
       "\n",
       "   bathrooms  surface   price  ... level4Id level5Id level6Id level7Id  \\\n",
       "0        2.0    103.0  195000  ...        0        0        0        0   \n",
       "1        1.0      NaN   89000  ...        0        0        0        0   \n",
       "2        2.0     99.0  390000  ...        0        0        0        0   \n",
       "3        1.0     86.0   89000  ...        0        0        0        0   \n",
       "4        2.0    106.0  172000  ...        0        0        0        0   \n",
       "\n",
       "  level8Id accuracy          latitude          longitude zipCode customZone  \n",
       "0        0        0  40,2948276786438  -3,44402412135624     NaN        NaN  \n",
       "1        0        1          40,28674           -3,79351     NaN        NaN  \n",
       "2        0        0  40,4115646786438  -3,90662252135624     NaN        NaN  \n",
       "3        0        0  40,2853785786438  -3,79508142135624     NaN        NaN  \n",
       "4        0        0  40,2998774864376  -3,45226301356237     NaN        NaN  \n",
       "\n",
       "[5 rows x 37 columns]"
      ],
      "text/html": [
       "<div>\n",
       "<style scoped>\n",
       "    .dataframe tbody tr th:only-of-type {\n",
       "        vertical-align: middle;\n",
       "    }\n",
       "\n",
       "    .dataframe tbody tr th {\n",
       "        vertical-align: top;\n",
       "    }\n",
       "\n",
       "    .dataframe thead th {\n",
       "        text-align: right;\n",
       "    }\n",
       "</style>\n",
       "<table border=\"1\" class=\"dataframe\">\n",
       "  <thead>\n",
       "    <tr style=\"text-align: right;\">\n",
       "      <th></th>\n",
       "      <th>Unnamed: 0</th>\n",
       "      <th>id_realEstates</th>\n",
       "      <th>isNew</th>\n",
       "      <th>realEstate_name</th>\n",
       "      <th>phone_realEstate</th>\n",
       "      <th>url_inmueble</th>\n",
       "      <th>rooms</th>\n",
       "      <th>bathrooms</th>\n",
       "      <th>surface</th>\n",
       "      <th>price</th>\n",
       "      <th>...</th>\n",
       "      <th>level4Id</th>\n",
       "      <th>level5Id</th>\n",
       "      <th>level6Id</th>\n",
       "      <th>level7Id</th>\n",
       "      <th>level8Id</th>\n",
       "      <th>accuracy</th>\n",
       "      <th>latitude</th>\n",
       "      <th>longitude</th>\n",
       "      <th>zipCode</th>\n",
       "      <th>customZone</th>\n",
       "    </tr>\n",
       "  </thead>\n",
       "  <tbody>\n",
       "    <tr>\n",
       "      <th>0</th>\n",
       "      <td>1</td>\n",
       "      <td>153771986</td>\n",
       "      <td>False</td>\n",
       "      <td>ferrari 57 inmobiliaria</td>\n",
       "      <td>912177526.0</td>\n",
       "      <td>https://www.fotocasa.es/es/comprar/vivienda/ma...</td>\n",
       "      <td>3.0</td>\n",
       "      <td>2.0</td>\n",
       "      <td>103.0</td>\n",
       "      <td>195000</td>\n",
       "      <td>...</td>\n",
       "      <td>0</td>\n",
       "      <td>0</td>\n",
       "      <td>0</td>\n",
       "      <td>0</td>\n",
       "      <td>0</td>\n",
       "      <td>0</td>\n",
       "      <td>40,2948276786438</td>\n",
       "      <td>-3,44402412135624</td>\n",
       "      <td>NaN</td>\n",
       "      <td>NaN</td>\n",
       "    </tr>\n",
       "    <tr>\n",
       "      <th>1</th>\n",
       "      <td>2</td>\n",
       "      <td>153867863</td>\n",
       "      <td>False</td>\n",
       "      <td>tecnocasa fuenlabrada ferrocarril</td>\n",
       "      <td>916358736.0</td>\n",
       "      <td>https://www.fotocasa.es/es/comprar/vivienda/ma...</td>\n",
       "      <td>3.0</td>\n",
       "      <td>1.0</td>\n",
       "      <td>NaN</td>\n",
       "      <td>89000</td>\n",
       "      <td>...</td>\n",
       "      <td>0</td>\n",
       "      <td>0</td>\n",
       "      <td>0</td>\n",
       "      <td>0</td>\n",
       "      <td>0</td>\n",
       "      <td>1</td>\n",
       "      <td>40,28674</td>\n",
       "      <td>-3,79351</td>\n",
       "      <td>NaN</td>\n",
       "      <td>NaN</td>\n",
       "    </tr>\n",
       "    <tr>\n",
       "      <th>2</th>\n",
       "      <td>3</td>\n",
       "      <td>153430440</td>\n",
       "      <td>False</td>\n",
       "      <td>look find boadilla</td>\n",
       "      <td>916350408.0</td>\n",
       "      <td>https://www.fotocasa.es/es/comprar/vivienda/ma...</td>\n",
       "      <td>2.0</td>\n",
       "      <td>2.0</td>\n",
       "      <td>99.0</td>\n",
       "      <td>390000</td>\n",
       "      <td>...</td>\n",
       "      <td>0</td>\n",
       "      <td>0</td>\n",
       "      <td>0</td>\n",
       "      <td>0</td>\n",
       "      <td>0</td>\n",
       "      <td>0</td>\n",
       "      <td>40,4115646786438</td>\n",
       "      <td>-3,90662252135624</td>\n",
       "      <td>NaN</td>\n",
       "      <td>NaN</td>\n",
       "    </tr>\n",
       "    <tr>\n",
       "      <th>3</th>\n",
       "      <td>4</td>\n",
       "      <td>152776331</td>\n",
       "      <td>False</td>\n",
       "      <td>tecnocasa fuenlabrada ferrocarril</td>\n",
       "      <td>916358736.0</td>\n",
       "      <td>https://www.fotocasa.es/es/comprar/vivienda/ma...</td>\n",
       "      <td>3.0</td>\n",
       "      <td>1.0</td>\n",
       "      <td>86.0</td>\n",
       "      <td>89000</td>\n",
       "      <td>...</td>\n",
       "      <td>0</td>\n",
       "      <td>0</td>\n",
       "      <td>0</td>\n",
       "      <td>0</td>\n",
       "      <td>0</td>\n",
       "      <td>0</td>\n",
       "      <td>40,2853785786438</td>\n",
       "      <td>-3,79508142135624</td>\n",
       "      <td>NaN</td>\n",
       "      <td>NaN</td>\n",
       "    </tr>\n",
       "    <tr>\n",
       "      <th>4</th>\n",
       "      <td>5</td>\n",
       "      <td>153180188</td>\n",
       "      <td>False</td>\n",
       "      <td>ferrari 57 inmobiliaria</td>\n",
       "      <td>912177526.0</td>\n",
       "      <td>https://www.fotocasa.es/es/comprar/vivienda/ma...</td>\n",
       "      <td>2.0</td>\n",
       "      <td>2.0</td>\n",
       "      <td>106.0</td>\n",
       "      <td>172000</td>\n",
       "      <td>...</td>\n",
       "      <td>0</td>\n",
       "      <td>0</td>\n",
       "      <td>0</td>\n",
       "      <td>0</td>\n",
       "      <td>0</td>\n",
       "      <td>0</td>\n",
       "      <td>40,2998774864376</td>\n",
       "      <td>-3,45226301356237</td>\n",
       "      <td>NaN</td>\n",
       "      <td>NaN</td>\n",
       "    </tr>\n",
       "  </tbody>\n",
       "</table>\n",
       "<p>5 rows × 37 columns</p>\n",
       "</div>"
      ]
     },
     "execution_count": 244,
     "metadata": {},
     "output_type": "execute_result"
    }
   ],
   "execution_count": 244
  },
  {
   "attachments": {},
   "cell_type": "markdown",
   "id": "latin-guest",
   "metadata": {},
   "source": "## Ejercicio 01\n"
  },
  {
   "metadata": {
    "ExecuteTime": {
     "end_time": "2025-10-15T01:09:52.358976Z",
     "start_time": "2025-10-15T01:09:52.349013Z"
    }
   },
   "cell_type": "code",
   "source": [
    "\n",
    "casa_mas_cara = df.loc[df['price'].idxmax()]\n",
    "address = casa_mas_cara['realEstate_name']\n",
    "price = casa_mas_cara['price']\n",
    "\n",
    "print(f'La casa más cara se encuentra en la dirección: {address} y su precio es {price} €')"
   ],
   "id": "ed48bff014d7bfde",
   "outputs": [
    {
     "name": "stdout",
     "output_type": "stream",
     "text": [
      "La casa más cara se encuentra en la dirección: engel volkers torrelodones y su precio es 8500000 €\n"
     ]
    }
   ],
   "execution_count": 245
  },
  {
   "attachments": {},
   "cell_type": "markdown",
   "id": "lesser-cosmetic",
   "metadata": {},
   "source": "## Ejercicio 02"
  },
  {
   "metadata": {
    "ExecuteTime": {
     "end_time": "2025-10-15T01:09:52.500785Z",
     "start_time": "2025-10-15T01:09:52.493134Z"
    }
   },
   "cell_type": "code",
   "source": [
    "casa_mas_barata = df.loc[df['price'].idxmin()]\n",
    "address = casa_mas_barata['realEstate_name']\n",
    "price = casa_mas_barata['price']\n",
    "\n",
    "print(f'La casa más barata se encuentra en la dirección: {address} y su precio es {price} €')"
   ],
   "id": "7a97873508b22503",
   "outputs": [
    {
     "name": "stdout",
     "output_type": "stream",
     "text": [
      "La casa más barata se encuentra en la dirección: esalje y su precio es 0 €\n"
     ]
    }
   ],
   "execution_count": 246
  },
  {
   "attachments": {},
   "cell_type": "markdown",
   "id": "compliant-fellowship",
   "metadata": {},
   "source": "## Ejercicio 03\n"
  },
  {
   "metadata": {
    "ExecuteTime": {
     "end_time": "2025-10-15T01:09:52.760676Z",
     "start_time": "2025-10-15T01:09:52.753291Z"
    }
   },
   "cell_type": "code",
   "source": [
    "casa_mas_grande = df.loc[df['surface'].idxmax()]\n",
    "address = casa_mas_grande['realEstate_name']\n",
    "surface = casa_mas_grande['surface']\n",
    "\n",
    "print(f'La casa más grande se encuentra en la dirección: {address} y su superficie es {surface} m2')"
   ],
   "id": "501833b7fdf25dd0",
   "outputs": [
    {
     "name": "stdout",
     "output_type": "stream",
     "text": [
      "La casa más grande se encuentra en la dirección: habitarium inmobiliaria y su superficie es 249000.0 m2\n"
     ]
    }
   ],
   "execution_count": 248
  },
  {
   "cell_type": "markdown",
   "id": "89afefb0b0eb970e",
   "metadata": {},
   "source": "## Ejercicio 04\n"
  },
  {
   "metadata": {
    "ExecuteTime": {
     "end_time": "2025-10-15T01:09:52.824930Z",
     "start_time": "2025-10-15T01:09:52.815190Z"
    }
   },
   "cell_type": "code",
   "source": [
    "casa_mas_pequena = df.loc[df['surface'].idxmin()]\n",
    "address = casa_mas_pequena['realEstate_name']\n",
    "surface = casa_mas_pequena['surface']\n",
    "\n",
    "print(f'La casa más pequeña se encuentra en la dirección: {address} y su superficie es {surface} m2')"
   ],
   "id": "c84a1206e9fbba14",
   "outputs": [
    {
     "name": "stdout",
     "output_type": "stream",
     "text": [
      "La casa más pequeña se encuentra en la dirección: toledo21 y su superficie es 15.0 m2\n"
     ]
    }
   ],
   "execution_count": 249
  },
  {
   "attachments": {},
   "cell_type": "markdown",
   "id": "crazy-blame",
   "metadata": {},
   "source": "## Ejercicio 05.\n"
  },
  {
   "metadata": {
    "ExecuteTime": {
     "end_time": "2025-10-15T01:09:52.916038Z",
     "start_time": "2025-10-15T01:09:52.870273Z"
    }
   },
   "cell_type": "code",
   "source": [
    "\n",
    "filas_con_na = df.isna().any(axis=1)\n",
    "print(\"Filas con NAs:\")\n",
    "print(filas_con_na)\n",
    "\n",
    "columnas_con_na = df.isna().any()\n",
    "print(\"\\nColumnas con NAs:\")\n",
    "print(columnas_con_na)"
   ],
   "id": "e0688807e63ef919",
   "outputs": [
    {
     "name": "stdout",
     "output_type": "stream",
     "text": [
      "Filas con NAs:\n",
      "0        True\n",
      "1        True\n",
      "2        True\n",
      "3        True\n",
      "4        True\n",
      "         ... \n",
      "15330    True\n",
      "15331    True\n",
      "15332    True\n",
      "15333    True\n",
      "15334    True\n",
      "Length: 15335, dtype: bool\n",
      "\n",
      "Columnas con NAs:\n",
      "Unnamed: 0          False\n",
      "id_realEstates      False\n",
      "isNew               False\n",
      "realEstate_name      True\n",
      "phone_realEstate     True\n",
      "url_inmueble        False\n",
      "rooms                True\n",
      "bathrooms            True\n",
      "surface              True\n",
      "price               False\n",
      "date                False\n",
      "description          True\n",
      "address             False\n",
      "country             False\n",
      "level1              False\n",
      "level2              False\n",
      "level3              False\n",
      "level4               True\n",
      "level5              False\n",
      "level6               True\n",
      "level7               True\n",
      "level8               True\n",
      "upperLevel          False\n",
      "countryId           False\n",
      "level1Id            False\n",
      "level2Id            False\n",
      "level3Id            False\n",
      "level4Id            False\n",
      "level5Id            False\n",
      "level6Id            False\n",
      "level7Id            False\n",
      "level8Id            False\n",
      "accuracy            False\n",
      "latitude            False\n",
      "longitude           False\n",
      "zipCode              True\n",
      "customZone           True\n",
      "dtype: bool\n"
     ]
    }
   ],
   "execution_count": 250
  },
  {
   "attachments": {},
   "cell_type": "markdown",
   "id": "italic-hydrogen",
   "metadata": {},
   "source": "## Ejercicio 06.\n"
  },
  {
   "metadata": {
    "ExecuteTime": {
     "end_time": "2025-10-15T01:09:52.928927Z",
     "start_time": "2025-10-15T01:09:52.926377Z"
    }
   },
   "cell_type": "code",
   "source": "",
   "id": "89e56fe13bf1c0be",
   "outputs": [],
   "execution_count": null
  },
  {
   "cell_type": "markdown",
   "id": "c00ce93f7105532e",
   "metadata": {},
   "source": [
    "## Ejercicio 07\n",
    "\n"
   ]
  },
  {
   "metadata": {
    "ExecuteTime": {
     "end_time": "2025-10-15T01:09:52.961360Z",
     "start_time": "2025-10-15T01:09:52.952218Z"
    }
   },
   "cell_type": "code",
   "source": [
    "\n",
    "poblaciones = df['level5Id'].unique()\n",
    "print(\"Poblaciones únicas:\", poblaciones)\n",
    "total_poblaciones = len(poblaciones)\n",
    "print(\"Total de poblaciones:\", total_poblaciones)"
   ],
   "id": "1a75629b986a8d51",
   "outputs": [
    {
     "name": "stdout",
     "output_type": "stream",
     "text": [
      "Poblaciones únicas: [0]\n",
      "Total de poblaciones: 1\n"
     ]
    }
   ],
   "execution_count": 251
  },
  {
   "cell_type": "markdown",
   "id": "ffe874b946959731",
   "metadata": {},
   "source": "## Ejercicio 08\n"
  },
  {
   "cell_type": "code",
   "id": "1454ad464d3f1dfe",
   "metadata": {
    "ExecuteTime": {
     "end_time": "2025-10-15T01:09:53.008939Z",
     "start_time": "2025-10-15T01:09:52.995408Z"
    }
   },
   "source": [
    "\n",
    "\n",
    "arroyomolinos = df[df['level5'] == \"Arroyomolinos (Madrid)\"]\n",
    "\n",
    "media_precio_arroyomolinos = arroyomolinos['price'].mean()\n",
    "print(f\"La media de precios en Arroyomolinos (Madrid) es: {media_precio_arroyomolinos:.2f} €\")"
   ],
   "outputs": [
    {
     "name": "stdout",
     "output_type": "stream",
     "text": [
      "La media de precios en Arroyomolinos (Madrid) es: 294541.60 €\n"
     ]
    }
   ],
   "execution_count": 252
  },
  {
   "attachments": {},
   "cell_type": "markdown",
   "id": "actual-edinburgh",
   "metadata": {},
   "source": "## Ejercicio 09.\n"
  },
  {
   "cell_type": "code",
   "id": "numeric-commerce",
   "metadata": {
    "ExecuteTime": {
     "end_time": "2025-10-15T01:09:53.039190Z",
     "start_time": "2025-10-15T01:09:53.027097Z"
    }
   },
   "source": [
    "\n",
    "valdemorillo = df[df['level5'] == \"Valdemorillo\"]\n",
    "galapagar = df[df['level5'] == \"Galapagar\"]\n",
    "media_valdemorillo = valdemorillo['price'].mean()\n",
    "media_galapagar = galapagar['price'].mean()\n",
    "\n",
    "print(f\"Precio medio Valdemorillo: {media_valdemorillo:.2f} €\")\n",
    "print(f\"Precio medio Galapagar: {media_galapagar:.2f} €\")"
   ],
   "outputs": [
    {
     "name": "stdout",
     "output_type": "stream",
     "text": [
      "Precio medio Valdemorillo: 363860.29 €\n",
      "Precio medio Galapagar: 360063.20 €\n"
     ]
    }
   ],
   "execution_count": 253
  },
  {
   "metadata": {},
   "cell_type": "markdown",
   "source": [
    "#### Los precios medios de Valdemorillo y Galapagar no son iguales.\n",
    "#### Valdemorillo tiene un precio promedio ligeramente superior/inferior a Galapagar, lo que indica diferencias en la demanda o en el tipo de inmuebles en cada población."
   ],
   "id": "560d39c5b3c37834"
  },
  {
   "attachments": {},
   "cell_type": "markdown",
   "id": "lonely-article",
   "metadata": {},
   "source": "## Ejercicio 10"
  },
  {
   "cell_type": "code",
   "id": "common-drilling",
   "metadata": {
    "ExecuteTime": {
     "end_time": "2025-10-15T01:09:53.094607Z",
     "start_time": "2025-10-15T01:09:53.079985Z"
    }
   },
   "source": [
    "\n",
    "\n",
    "df['pps'] = df['price'] / df['surface']\n",
    "\n",
    "valdemorillo = df[df['level5'] == \"Valdemorillo\"]\n",
    "galapagar = df[df['level5'] == \"Galapagar\"]\n",
    "pps_valdemorillo = valdemorillo['pps'].mean()\n",
    "pps_galapagar = galapagar['pps'].mean()\n",
    "\n",
    "print(f\"Precio por m2 promedio Valdemorillo: {pps_valdemorillo:.2f} €/m2\")\n",
    "print(f\"Precio por m2 promedio Galapagar: {pps_galapagar:.2f} €/m2\")"
   ],
   "outputs": [
    {
     "name": "stdout",
     "output_type": "stream",
     "text": [
      "Precio por m2 promedio Valdemorillo: 1317.95 €/m2\n",
      "Precio por m2 promedio Galapagar: 1606.32 €/m2\n"
     ]
    }
   ],
   "execution_count": 254
  },
  {
   "metadata": {},
   "cell_type": "markdown",
   "source": [
    "#### Al analizar el precio por metro cuadrado, se observa que tampoco son iguales.\n",
    "#### Aunque el precio total pueda ser similar, el tamaño de las casas varía, afectando el valor por unidad de superficie.\n"
   ],
   "id": "d80e773865e094ed"
  },
  {
   "attachments": {},
   "cell_type": "markdown",
   "id": "coordinate-sunrise",
   "metadata": {},
   "source": "## Ejercicio 11\n"
  },
  {
   "cell_type": "code",
   "id": "valid-honolulu",
   "metadata": {
    "ExecuteTime": {
     "end_time": "2025-10-15T01:09:53.141050Z",
     "start_time": "2025-10-15T01:09:53.129855Z"
    }
   },
   "source": [
    "total_agencias = df['realEstate_name'].nunique()\n",
    "print(f\"El dataset contiene {total_agencias} agencias de bienes raíces.\")"
   ],
   "outputs": [
    {
     "name": "stdout",
     "output_type": "stream",
     "text": [
      "El dataset contiene 1821 agencias de bienes raíces.\n"
     ]
    }
   ],
   "execution_count": 255
  },
  {
   "attachments": {},
   "cell_type": "markdown",
   "id": "binding-ebony",
   "metadata": {},
   "source": "## Ejercicio 12\n"
  },
  {
   "cell_type": "code",
   "id": "static-perry",
   "metadata": {
    "ExecuteTime": {
     "end_time": "2025-10-15T01:09:53.183Z",
     "start_time": "2025-10-15T01:09:53.173987Z"
    }
   },
   "source": [
    "casas_por_poblacion = df['level5'].value_counts()\n",
    "poblacion_max = casas_por_poblacion.idxmax()\n",
    "num_casas = casas_por_poblacion.max()\n",
    "\n",
    "print(f\"La población con más casas es {poblacion_max} con {num_casas} casas.\")"
   ],
   "outputs": [
    {
     "name": "stdout",
     "output_type": "stream",
     "text": [
      "La población con más casas es  Madrid Capital con 6643 casas.\n"
     ]
    }
   ],
   "execution_count": 256
  },
  {
   "attachments": {},
   "cell_type": "markdown",
   "id": "entire-classification",
   "metadata": {},
   "source": "## Ejercicio 13"
  },
  {
   "cell_type": "code",
   "id": "binary-input",
   "metadata": {
    "ExecuteTime": {
     "end_time": "2025-10-15T01:09:53.259332Z",
     "start_time": "2025-10-15T01:09:53.232300Z"
    }
   },
   "source": [
    "cinturon_sur = [\"Fuenlabrada\", \"Leganés\", \"Getafe\", \"Alcorcón\"]\n",
    "\n",
    "df_cinturon_sur = df[df['level5'].isin(cinturon_sur)]\n",
    "df_cinturon_sur.head()"
   ],
   "outputs": [
    {
     "data": {
      "text/plain": [
       "     Unnamed: 0  id_realEstates  isNew                    realEstate_name  \\\n",
       "1             2       153867863  False  tecnocasa fuenlabrada ferrocarril   \n",
       "3             4       152776331  False  tecnocasa fuenlabrada ferrocarril   \n",
       "85           86       153152077  False            sinergical inmobiliaria   \n",
       "94           95       153995577  False                    viviendas365com   \n",
       "109         110       153586414  False    area uno asesores inmobiliarios   \n",
       "\n",
       "     phone_realEstate                                       url_inmueble  \\\n",
       "1         916358736.0  https://www.fotocasa.es/es/comprar/vivienda/ma...   \n",
       "3         916358736.0  https://www.fotocasa.es/es/comprar/vivienda/ma...   \n",
       "85                NaN  https://www.fotocasa.es/es/comprar/vivienda/le...   \n",
       "94        911226014.0  https://www.fotocasa.es/es/comprar/vivienda/le...   \n",
       "109       912664081.0  https://www.fotocasa.es/es/comprar/vivienda/ma...   \n",
       "\n",
       "     rooms  bathrooms  surface   price  ... level5Id level6Id level7Id  \\\n",
       "1      3.0        1.0      NaN   89000  ...        0        0        0   \n",
       "3      3.0        1.0     86.0   89000  ...        0        0        0   \n",
       "85     1.0        1.0     50.0  107000  ...        0        0        0   \n",
       "94     3.0        2.0    120.0  320000  ...        0        0        0   \n",
       "109    3.0        3.0    142.0  425000  ...        0        0        0   \n",
       "\n",
       "    level8Id accuracy          latitude          longitude zipCode customZone  \\\n",
       "1          0        1          40,28674           -3,79351     NaN        NaN   \n",
       "3          0        0  40,2853785786438  -3,79508142135624     NaN        NaN   \n",
       "85         0        1          40,35059           -3,82693     NaN        NaN   \n",
       "94         0        0          40,31933           -3,77574     NaN        NaN   \n",
       "109        0        0        40,3313411         -3,8313868     NaN        NaN   \n",
       "\n",
       "             pps  \n",
       "1            NaN  \n",
       "3    1034.883721  \n",
       "85   2140.000000  \n",
       "94   2666.666667  \n",
       "109  2992.957746  \n",
       "\n",
       "[5 rows x 38 columns]"
      ],
      "text/html": [
       "<div>\n",
       "<style scoped>\n",
       "    .dataframe tbody tr th:only-of-type {\n",
       "        vertical-align: middle;\n",
       "    }\n",
       "\n",
       "    .dataframe tbody tr th {\n",
       "        vertical-align: top;\n",
       "    }\n",
       "\n",
       "    .dataframe thead th {\n",
       "        text-align: right;\n",
       "    }\n",
       "</style>\n",
       "<table border=\"1\" class=\"dataframe\">\n",
       "  <thead>\n",
       "    <tr style=\"text-align: right;\">\n",
       "      <th></th>\n",
       "      <th>Unnamed: 0</th>\n",
       "      <th>id_realEstates</th>\n",
       "      <th>isNew</th>\n",
       "      <th>realEstate_name</th>\n",
       "      <th>phone_realEstate</th>\n",
       "      <th>url_inmueble</th>\n",
       "      <th>rooms</th>\n",
       "      <th>bathrooms</th>\n",
       "      <th>surface</th>\n",
       "      <th>price</th>\n",
       "      <th>...</th>\n",
       "      <th>level5Id</th>\n",
       "      <th>level6Id</th>\n",
       "      <th>level7Id</th>\n",
       "      <th>level8Id</th>\n",
       "      <th>accuracy</th>\n",
       "      <th>latitude</th>\n",
       "      <th>longitude</th>\n",
       "      <th>zipCode</th>\n",
       "      <th>customZone</th>\n",
       "      <th>pps</th>\n",
       "    </tr>\n",
       "  </thead>\n",
       "  <tbody>\n",
       "    <tr>\n",
       "      <th>1</th>\n",
       "      <td>2</td>\n",
       "      <td>153867863</td>\n",
       "      <td>False</td>\n",
       "      <td>tecnocasa fuenlabrada ferrocarril</td>\n",
       "      <td>916358736.0</td>\n",
       "      <td>https://www.fotocasa.es/es/comprar/vivienda/ma...</td>\n",
       "      <td>3.0</td>\n",
       "      <td>1.0</td>\n",
       "      <td>NaN</td>\n",
       "      <td>89000</td>\n",
       "      <td>...</td>\n",
       "      <td>0</td>\n",
       "      <td>0</td>\n",
       "      <td>0</td>\n",
       "      <td>0</td>\n",
       "      <td>1</td>\n",
       "      <td>40,28674</td>\n",
       "      <td>-3,79351</td>\n",
       "      <td>NaN</td>\n",
       "      <td>NaN</td>\n",
       "      <td>NaN</td>\n",
       "    </tr>\n",
       "    <tr>\n",
       "      <th>3</th>\n",
       "      <td>4</td>\n",
       "      <td>152776331</td>\n",
       "      <td>False</td>\n",
       "      <td>tecnocasa fuenlabrada ferrocarril</td>\n",
       "      <td>916358736.0</td>\n",
       "      <td>https://www.fotocasa.es/es/comprar/vivienda/ma...</td>\n",
       "      <td>3.0</td>\n",
       "      <td>1.0</td>\n",
       "      <td>86.0</td>\n",
       "      <td>89000</td>\n",
       "      <td>...</td>\n",
       "      <td>0</td>\n",
       "      <td>0</td>\n",
       "      <td>0</td>\n",
       "      <td>0</td>\n",
       "      <td>0</td>\n",
       "      <td>40,2853785786438</td>\n",
       "      <td>-3,79508142135624</td>\n",
       "      <td>NaN</td>\n",
       "      <td>NaN</td>\n",
       "      <td>1034.883721</td>\n",
       "    </tr>\n",
       "    <tr>\n",
       "      <th>85</th>\n",
       "      <td>86</td>\n",
       "      <td>153152077</td>\n",
       "      <td>False</td>\n",
       "      <td>sinergical inmobiliaria</td>\n",
       "      <td>NaN</td>\n",
       "      <td>https://www.fotocasa.es/es/comprar/vivienda/le...</td>\n",
       "      <td>1.0</td>\n",
       "      <td>1.0</td>\n",
       "      <td>50.0</td>\n",
       "      <td>107000</td>\n",
       "      <td>...</td>\n",
       "      <td>0</td>\n",
       "      <td>0</td>\n",
       "      <td>0</td>\n",
       "      <td>0</td>\n",
       "      <td>1</td>\n",
       "      <td>40,35059</td>\n",
       "      <td>-3,82693</td>\n",
       "      <td>NaN</td>\n",
       "      <td>NaN</td>\n",
       "      <td>2140.000000</td>\n",
       "    </tr>\n",
       "    <tr>\n",
       "      <th>94</th>\n",
       "      <td>95</td>\n",
       "      <td>153995577</td>\n",
       "      <td>False</td>\n",
       "      <td>viviendas365com</td>\n",
       "      <td>911226014.0</td>\n",
       "      <td>https://www.fotocasa.es/es/comprar/vivienda/le...</td>\n",
       "      <td>3.0</td>\n",
       "      <td>2.0</td>\n",
       "      <td>120.0</td>\n",
       "      <td>320000</td>\n",
       "      <td>...</td>\n",
       "      <td>0</td>\n",
       "      <td>0</td>\n",
       "      <td>0</td>\n",
       "      <td>0</td>\n",
       "      <td>0</td>\n",
       "      <td>40,31933</td>\n",
       "      <td>-3,77574</td>\n",
       "      <td>NaN</td>\n",
       "      <td>NaN</td>\n",
       "      <td>2666.666667</td>\n",
       "    </tr>\n",
       "    <tr>\n",
       "      <th>109</th>\n",
       "      <td>110</td>\n",
       "      <td>153586414</td>\n",
       "      <td>False</td>\n",
       "      <td>area uno asesores inmobiliarios</td>\n",
       "      <td>912664081.0</td>\n",
       "      <td>https://www.fotocasa.es/es/comprar/vivienda/ma...</td>\n",
       "      <td>3.0</td>\n",
       "      <td>3.0</td>\n",
       "      <td>142.0</td>\n",
       "      <td>425000</td>\n",
       "      <td>...</td>\n",
       "      <td>0</td>\n",
       "      <td>0</td>\n",
       "      <td>0</td>\n",
       "      <td>0</td>\n",
       "      <td>0</td>\n",
       "      <td>40,3313411</td>\n",
       "      <td>-3,8313868</td>\n",
       "      <td>NaN</td>\n",
       "      <td>NaN</td>\n",
       "      <td>2992.957746</td>\n",
       "    </tr>\n",
       "  </tbody>\n",
       "</table>\n",
       "<p>5 rows × 38 columns</p>\n",
       "</div>"
      ]
     },
     "execution_count": 257,
     "metadata": {},
     "output_type": "execute_result"
    }
   ],
   "execution_count": 257
  },
  {
   "attachments": {},
   "cell_type": "markdown",
   "id": "speaking-diamond",
   "metadata": {},
   "source": "## Ejercicio 14"
  },
  {
   "cell_type": "code",
   "id": "random-feeling",
   "metadata": {
    "ExecuteTime": {
     "end_time": "2025-10-15T01:09:54.053768Z",
     "start_time": "2025-10-15T01:09:54.044379Z"
    }
   },
   "source": [
    "variables = ['price', 'rooms', 'surface', 'bathrooms']\n",
    "estadisticas = {}\n",
    "for var in variables:\n",
    "    media = df_cinturon_sur[var].mean()\n",
    "    varianza = df_cinturon_sur[var].var()\n",
    "    estadisticas[var] = {'media': media, 'varianza': varianza}\n",
    "\n",
    "print(estadisticas)"
   ],
   "outputs": [
    {
     "name": "stdout",
     "output_type": "stream",
     "text": [
      "{'price': {'media': np.float64(223094.48070562293), 'varianza': np.float64(14921367508.04902)}, 'rooms': {'media': np.float64(3.0177383592017737), 'varianza': np.float64(0.7188858892927542)}, 'surface': {'media': np.float64(111.75222363405337), 'varianza': np.float64(4263.051760316337)}, 'bathrooms': {'media': np.float64(1.633221850613155), 'varianza': np.float64(0.5717968625577321)}}\n"
     ]
    }
   ],
   "execution_count": 258
  },
  {
   "attachments": {},
   "cell_type": "markdown",
   "id": "revolutionary-matrix",
   "metadata": {},
   "source": "## Ejercicio 15"
  },
  {
   "cell_type": "code",
   "id": "fifteen-browse",
   "metadata": {
    "ExecuteTime": {
     "end_time": "2025-10-15T01:09:54.404819Z",
     "start_time": "2025-10-15T01:09:54.393659Z"
    }
   },
   "source": [
    "casa_mas_cara_por_poblacion = df_cinturon_sur.loc[df_cinturon_sur.groupby('level5')['price'].idxmax()]\n",
    "for _, row in casa_mas_cara_por_poblacion.iterrows():\n",
    "    print(f\"Población: {row['level5']}, Dirección: {row['realEstate_name']}, Precio: {row['price']} €\")"
   ],
   "outputs": [
    {
     "name": "stdout",
     "output_type": "stream",
     "text": [
      "Población: Alcorcón, Dirección: 100 home red inmobiliaria, Precio: 950000 €\n",
      "Población: Fuenlabrada, Dirección: unna madrid, Precio: 490000 €\n",
      "Población: Getafe, Dirección: unna grupo inmobiliario, Precio: 1050000 €\n",
      "Población: Leganés, Dirección: bafre gestion y servicios inmobiliarios, Precio: 650000 €\n"
     ]
    }
   ],
   "execution_count": 259
  },
  {
   "metadata": {},
   "cell_type": "markdown",
   "source": "#### Cada población del cinturón sur tiene casas con precios máximos distintos.",
   "id": "20b2a036132352ea"
  },
  {
   "attachments": {},
   "cell_type": "markdown",
   "id": "patent-jonathan",
   "metadata": {},
   "source": "## Ejercicio 16"
  },
  {
   "cell_type": "code",
   "id": "initial-liverpool",
   "metadata": {
    "ExecuteTime": {
     "end_time": "2025-10-15T01:09:54.674279Z",
     "start_time": "2025-10-15T01:09:54.661989Z"
    }
   },
   "source": [
    "df_cinturon_sur['pps'] = df_cinturon_sur['price'] / df_cinturon_sur['surface']\n",
    "getafe = df_cinturon_sur[df_cinturon_sur['level5'] == \"Getafe\"]\n",
    "alcorcon = df_cinturon_sur[df_cinturon_sur['level5'] == \"Alcorcón\"]\n",
    "pps_getafe = getafe['pps'].mean()\n",
    "pps_alcorcon = alcorcon['pps'].mean()\n",
    "\n",
    "print(f\"Precio por m2 promedio Getafe: {pps_getafe:.2f} €/m2\")\n",
    "print(f\"Precio por m2 promedio Alcorcón: {pps_alcorcon:.2f} €/m2\")"
   ],
   "outputs": [
    {
     "name": "stdout",
     "output_type": "stream",
     "text": [
      "Precio por m2 promedio Getafe: 2066.31 €/m2\n",
      "Precio por m2 promedio Alcorcón: 2239.30 €/m2\n"
     ]
    },
    {
     "name": "stderr",
     "output_type": "stream",
     "text": [
      "C:\\Users\\User\\AppData\\Local\\Temp\\ipykernel_7300\\3074597249.py:1: SettingWithCopyWarning: \n",
      "A value is trying to be set on a copy of a slice from a DataFrame.\n",
      "Try using .loc[row_indexer,col_indexer] = value instead\n",
      "\n",
      "See the caveats in the documentation: https://pandas.pydata.org/pandas-docs/stable/user_guide/indexing.html#returning-a-view-versus-a-copy\n",
      "  df_cinturon_sur['pps'] = df_cinturon_sur['price'] / df_cinturon_sur['surface']\n"
     ]
    }
   ],
   "execution_count": 260
  },
  {
   "cell_type": "markdown",
   "id": "77f4fb6b000f9e0b",
   "metadata": {},
   "source": "## Ejercicio 17 - Conclusiones"
  },
  {
   "cell_type": "markdown",
   "id": "d68570bb7b80a83e",
   "metadata": {},
   "source": [
    "\n",
    "#### El análisis de precios y superficie muestra que no siempre las casas más grandes son las más caras, resaltandose la importancia de la ubicación y distintos factores.\n",
    "#### El cinturón sur de Madrid tiene un mercado variado, con diferencias en la cantidad de casas y en los precios entre los municipios.\n",
    "#### El proyecto demuestra la utilidad de limpiar y explorar los datos antes de analizarlos para obtener conclusiones más precisas y relevantes.\n",
    "#### Los análisis realizados pueden servir de base para estudios de mercado y toma de decisiones en el sector inmobiliario.\n"
   ]
  }
 ],
 "metadata": {
  "kernelspec": {
   "display_name": "Python 3",
   "language": "python",
   "name": "python3"
  },
  "language_info": {
   "codemirror_mode": {
    "name": "ipython",
    "version": 3
   },
   "file_extension": ".py",
   "mimetype": "text/x-python",
   "name": "python",
   "nbconvert_exporter": "python",
   "pygments_lexer": "ipython3",
   "version": "3.11.3"
  }
 },
 "nbformat": 4,
 "nbformat_minor": 5
}
